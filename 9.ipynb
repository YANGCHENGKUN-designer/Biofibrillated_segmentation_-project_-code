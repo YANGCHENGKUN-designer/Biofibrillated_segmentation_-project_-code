{
 "cells": [
  {
   "cell_type": "code",
   "execution_count": null,
   "id": "37302e4f",
   "metadata": {},
   "outputs": [],
   "source": [
    "import pickle\n",
    "import matplotlib.pyplot as plt\n",
    "import numpy as np\n",
    "from scipy.ndimage import gaussian_filter\n",
    "\n",
    "# 加载数据包\n",
    "with open('/content/processed_results.pkl', 'rb') as f:\n",
    "    processed_results = pickle.load(f)\n",
    "\n",
    "# 初始化坐标值和像素值列表\n",
    "x_values = []\n",
    "y_values = []\n",
    "pixel_values = []\n",
    "\n",
    "# 遍历每个处理结果\n",
    "for result in processed_results:\n",
    "    m_mean_new = int(result[0])\n",
    "    n_mean_new = int(result[1])\n",
    "    new_pixel_value_mean_update = result[4]\n",
    "\n",
    "    # 转换坐标值\n",
    "    x_values.append(m_mean_new)\n",
    "    y_values.append(n_mean_new)  # 将Y坐标值取反，使左上角对应（0, 0）\n",
    "\n",
    "    # 处理像素值\n",
    "    if new_pixel_value_mean_update <= 25:\n",
    "        pixel_values.append(0)\n",
    "    else:\n",
    "        pixel_values.append(new_pixel_value_mean_update)\n",
    "\n",
    "# 将像素值转换为 NumPy 数组\n",
    "pixel_values = np.array(pixel_values)\n",
    "\n",
    "# 使用高斯滤波器进行处理\n",
    "sigma = 0.5  # 高斯核的标准差\n",
    "pixel_values_processed = gaussian_filter(pixel_values, sigma)\n",
    "\n",
    "# 绘制图形\n",
    "plt.scatter(x_values, y_values, c=pixel_values_processed, cmap='viridis')\n",
    "plt.colorbar()\n",
    "plt.gca().invert_yaxis()  # 反转Y轴，使左上角对应（0, 0）\n",
    "plt.xlabel('X坐标')\n",
    "plt.ylabel('Y坐标')\n",
    "plt.title('经过处理的新图形')\n",
    "\n",
    "# 保存图形为图片\n",
    "plt.savefig('/content/plot.png')\n",
    "\n",
    "# 显示图形\n",
    "plt.show()\n"
   ]
  }
 ],
 "metadata": {
  "kernelspec": {
   "display_name": "Python 3 (ipykernel)",
   "language": "python",
   "name": "python3"
  },
  "language_info": {
   "codemirror_mode": {
    "name": "ipython",
    "version": 3
   },
   "file_extension": ".py",
   "mimetype": "text/x-python",
   "name": "python",
   "nbconvert_exporter": "python",
   "pygments_lexer": "ipython3",
   "version": "3.9.13"
  }
 },
 "nbformat": 4,
 "nbformat_minor": 5
}
