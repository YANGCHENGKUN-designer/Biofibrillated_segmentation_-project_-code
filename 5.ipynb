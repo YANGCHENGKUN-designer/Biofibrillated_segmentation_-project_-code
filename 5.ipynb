{
 "cells": [
  {
   "cell_type": "code",
   "execution_count": null,
   "id": "061b83c8",
   "metadata": {},
   "outputs": [],
   "source": [
    "#!/usr/bin/env python\n",
    "# coding: utf-8\n",
    "\n",
    "# In[ ]:\n",
    "\n",
    "\n",
    "import pickle\n",
    "from tqdm import tqdm\n",
    "\n",
    "# 读取数据\n",
    "with open('/content/output_256.pkl', 'rb') as f:\n",
    "    data = pickle.load(f)\n",
    "\n",
    "# 建立字典\n",
    "result = {}\n",
    "for max_value_theta_i, new_pixel_value, theta_new, x_value, y_value in data:\n",
    "    index = (x_value, y_value)\n",
    "    output = (new_pixel_value, theta_new)\n",
    "    result[index] = output\n",
    "\n",
    "# 加载.pkl文件\n",
    "with open('/content/result_array.pkl', 'rb') as f:\n",
    "    result_array = pickle.load(f)\n",
    "\n",
    "# 建立数组\n",
    "result_new = []\n",
    "\n",
    "# 遍历数组并查询结果\n",
    "with tqdm(total=len(result_array)) as pbar:\n",
    "    for m, n in result_array:\n",
    "        # 在字典result中查询结果\n",
    "        if (m, n) in result:\n",
    "            query_result = result[(m, n)]\n",
    "        else:\n",
    "            # 处理查询失败的情况\n",
    "            query_result = None\n",
    "\n",
    "        # 在这里可以对查询结果query_result进行操作\n",
    "        # 例如，将其保存在新的数据包中\n",
    "        # ...\n",
    "\n",
    "        # 将查询结果保存在result_new数组中\n",
    "        result_new.append(((m, n), query_result))\n",
    "        pbar.update(1)  # 更新进度条\n",
    "\n",
    "# 保存查询结果为数据包\n",
    "with open('/content/query_results.pkl', 'wb') as f:\n",
    "    pickle.dump(result_new, f)\n",
    "\n",
    "print(\"保存成功！\")\n",
    "\n"
   ]
  }
 ],
 "metadata": {
  "kernelspec": {
   "display_name": "Python 3 (ipykernel)",
   "language": "python",
   "name": "python3"
  },
  "language_info": {
   "codemirror_mode": {
    "name": "ipython",
    "version": 3
   },
   "file_extension": ".py",
   "mimetype": "text/x-python",
   "name": "python",
   "nbconvert_exporter": "python",
   "pygments_lexer": "ipython3",
   "version": "3.9.13"
  }
 },
 "nbformat": 4,
 "nbformat_minor": 5
}
