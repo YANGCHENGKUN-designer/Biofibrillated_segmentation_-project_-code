{
 "cells": [
  {
   "cell_type": "code",
   "execution_count": null,
   "id": "ef198ad6",
   "metadata": {},
   "outputs": [],
   "source": [
    "import pickle\n",
    "import numpy as np\n",
    "\n",
    "# 加载数据包\n",
    "with open('/content/statistics_results.pkl', 'rb') as f:\n",
    "    results = pickle.load(f)\n",
    "\n",
    "# 初始化结果列表\n",
    "processed_results = []\n",
    "\n",
    "# 遍历每四个元组进行处理\n",
    "for i in range(0, len(results), 4):\n",
    "    # 取出第一个到第四个元组的m_mean和n_mean，并计算均值\n",
    "    m_mean_values = [results[j][0][0] for j in range(i, i+4)]\n",
    "    n_mean_values = [results[j][0][1] for j in range(i, i+4)]\n",
    "    m_mean_new = np.mean(m_mean_values)\n",
    "    n_mean_new = np.mean(n_mean_values)\n",
    "\n",
    "    # 取出第一个到第四个元组的theta_new_variance，并找到最小值\n",
    "    theta_new_variance_values = [results[j][1][1] for j in range(i, i+4)]\n",
    "    theta_new_variance_update = np.min(theta_new_variance_values)\n",
    "    # 取出最小值对应的theta_new_mean\n",
    "    theta_new_mean_update = results[i + np.argmin(theta_new_variance_values)][1][0]\n",
    "\n",
    "    # 取出第一个到第四个元组的new_pixel_value_variance，并找到最小值\n",
    "    new_pixel_value_variance_values = [results[j][1][3] for j in range(i, i+4)]\n",
    "    new_pixel_value_variance_update = np.min(new_pixel_value_variance_values)\n",
    "    # 取出最小值对应的new_pixel_value_mean\n",
    "    new_pixel_value_mean_update = results[i + np.argmin(new_pixel_value_variance_values)][1][2]\n",
    "\n",
    "    # 将处理结果添加到结果列表中\n",
    "    processed_results.append((m_mean_new, n_mean_new, theta_new_mean_update, theta_new_variance_update,\n",
    "                              new_pixel_value_mean_update, new_pixel_value_variance_update))\n",
    "\n",
    "# 保存结果为数据包\n",
    "with open('/content/processed_results.pkl', 'wb') as f:\n",
    "    pickle.dump(processed_results, f)\n",
    "\n",
    "print(\"保存成功！\")\n"
   ]
  }
 ],
 "metadata": {
  "kernelspec": {
   "display_name": "Python 3 (ipykernel)",
   "language": "python",
   "name": "python3"
  },
  "language_info": {
   "codemirror_mode": {
    "name": "ipython",
    "version": 3
   },
   "file_extension": ".py",
   "mimetype": "text/x-python",
   "name": "python",
   "nbconvert_exporter": "python",
   "pygments_lexer": "ipython3",
   "version": "3.9.13"
  }
 },
 "nbformat": 4,
 "nbformat_minor": 5
}
