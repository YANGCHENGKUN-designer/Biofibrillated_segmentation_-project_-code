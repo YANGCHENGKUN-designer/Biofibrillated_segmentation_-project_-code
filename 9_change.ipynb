{
 "cells": [
  {
   "cell_type": "code",
   "execution_count": null,
   "id": "12ddf3f5",
   "metadata": {},
   "outputs": [],
   "source": [
    "import pickle\n",
    "import matplotlib.pyplot as plt\n",
    "import numpy as np\n",
    "\n",
    "# 加载数据包\n",
    "with open('/content/processed_results.pkl', 'rb') as f:\n",
    "    processed_results = pickle.load(f)\n",
    "\n",
    "# 提取坐标和像素值\n",
    "x_values = [int(result[0]) for result in processed_results]\n",
    "y_values = [int(result[1]) for result in processed_results]\n",
    "pixel_values = [result[4] if result[4] >= 20 else 0 for result in processed_results]\n",
    "\n",
    "# 确定图像大小\n",
    "width = max(x_values) + 1\n",
    "height = max(y_values) + 1\n",
    "\n",
    "# 创建空白图像\n",
    "image = np.zeros((height, width))\n",
    "\n",
    "# 将像素值填充到图像中的对应位置\n",
    "for x, y, pixel in zip(x_values, y_values, pixel_values):\n",
    "    image[y, x] = pixel\n",
    "\n",
    "# 绘制图像\n",
    "plt.imshow(image, cmap='viridis')\n",
    "plt.axis('off')  # 隐藏坐标轴和刻度\n",
    "\n",
    "# 保存图像为图片\n",
    "plt.savefig('/content/plot_finished.png', bbox_inches='tight', pad_inches=0)\n",
    "\n",
    "\n"
   ]
  }
 ],
 "metadata": {
  "kernelspec": {
   "display_name": "Python 3 (ipykernel)",
   "language": "python",
   "name": "python3"
  },
  "language_info": {
   "codemirror_mode": {
    "name": "ipython",
    "version": 3
   },
   "file_extension": ".py",
   "mimetype": "text/x-python",
   "name": "python",
   "nbconvert_exporter": "python",
   "pygments_lexer": "ipython3",
   "version": "3.9.13"
  }
 },
 "nbformat": 4,
 "nbformat_minor": 5
}
