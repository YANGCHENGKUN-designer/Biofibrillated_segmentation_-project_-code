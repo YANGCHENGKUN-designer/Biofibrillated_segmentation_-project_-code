{
 "cells": [
  {
   "cell_type": "code",
   "execution_count": null,
   "id": "440b6831",
   "metadata": {},
   "outputs": [],
   "source": [
    "import pickle\n",
    "\n",
    "# 加载数据包\n",
    "with open('/content/query_results.pkl', 'rb') as f:\n",
    "    query_results = pickle.load(f)\n",
    "\n",
    "# 统计元组的数量\n",
    "count = 0\n",
    "for item in query_results:\n",
    "    if isinstance(item, tuple) and len(item) == 2 and isinstance(item[0], tuple) and isinstance(item[1], tuple):\n",
    "        count += 1\n",
    "\n",
    "print(\"元组的数量:\", count)\n",
    "\n",
    "\n",
    "\n",
    "import pickle\n",
    "import numpy as np\n",
    "\n",
    "# 加载数据包\n",
    "with open('/content/query_results.pkl', 'rb') as f:\n",
    "    query_results = pickle.load(f)\n",
    "\n",
    "# 计算P和L\n",
    "total_elements = len(query_results)\n",
    "L = 9\n",
    "P = total_elements // L\n",
    "\n",
    "# 创建新数组\n",
    "new_array = np.empty((P, L), dtype=object)\n",
    "\n",
    "# 将元组放入新数组\n",
    "index = 0\n",
    "for item in query_results:\n",
    "    if index >= P * L:\n",
    "        break\n",
    "    new_array[index // L, index % L] = item\n",
    "    index += 1\n",
    "\n",
    "# 打印新数组\n",
    "for row in new_array:\n",
    "    print(row)\n",
    "\n",
    "# 保存新数组为数据包\n",
    "with open('/content/new_array.pkl', 'wb') as f:\n",
    "    pickle.dump(new_array, f)\n",
    "\n",
    "print(\"保存成功！\")"
   ]
  }
 ],
 "metadata": {
  "kernelspec": {
   "display_name": "Python 3 (ipykernel)",
   "language": "python",
   "name": "python3"
  },
  "language_info": {
   "codemirror_mode": {
    "name": "ipython",
    "version": 3
   },
   "file_extension": ".py",
   "mimetype": "text/x-python",
   "name": "python",
   "nbconvert_exporter": "python",
   "pygments_lexer": "ipython3",
   "version": "3.9.13"
  }
 },
 "nbformat": 4,
 "nbformat_minor": 5
}
