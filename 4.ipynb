{
 "cells": [
  {
   "cell_type": "code",
   "execution_count": null,
   "id": "0528b887",
   "metadata": {},
   "outputs": [],
   "source": [
    "import pickle\n",
    "\n",
    "# 读取数据\n",
    "with open('/content/output_256.pkl', 'rb') as f:\n",
    "    data = pickle.load(f)\n",
    "\n",
    "# 建立字典\n",
    "result = {}\n",
    "for max_value_theta_i, new_pixel_value, theta_new, x_value, y_value in data:\n",
    "    index = (x_value, y_value)\n",
    "    output = (new_pixel_value, theta_new)\n",
    "    result[index] = output\n",
    "\n",
    "# 打印结果\n",
    "for index, output in result.items():\n",
    "    print(f'索引: {index}, 输出值: {output}')\n",
    "\n",
    "import pickle\n",
    "\n",
    "# 加载.pkl文件\n",
    "with open('/content/result_data.pkl', 'rb') as f:\n",
    "    data = pickle.load(f)\n",
    "\n",
    "# 遍历坐标值并输出为数组\n",
    "result_array = []\n",
    "for array in data:\n",
    "    for coordinates in array:\n",
    "        for (m, n) in coordinates:\n",
    "            result_array.append((m, n))\n",
    "\n",
    "# 打印结果数组\n",
    "print(result_array)\n",
    "\n",
    "# 保存为数据包\n",
    "with open('/content/result_array.pkl', 'wb') as f:\n",
    "    pickle.dump(result_array, f)\n",
    "\n",
    "print(\"保存成功！\")\n"
   ]
  }
 ],
 "metadata": {
  "kernelspec": {
   "display_name": "Python 3 (ipykernel)",
   "language": "python",
   "name": "python3"
  },
  "language_info": {
   "codemirror_mode": {
    "name": "ipython",
    "version": 3
   },
   "file_extension": ".py",
   "mimetype": "text/x-python",
   "name": "python",
   "nbconvert_exporter": "python",
   "pygments_lexer": "ipython3",
   "version": "3.9.13"
  }
 },
 "nbformat": 4,
 "nbformat_minor": 5
}
