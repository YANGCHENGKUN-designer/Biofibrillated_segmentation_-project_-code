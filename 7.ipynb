{
 "cells": [
  {
   "cell_type": "code",
   "execution_count": null,
   "id": "b2d9d7d5",
   "metadata": {},
   "outputs": [],
   "source": [
    "import pickle\n",
    "import numpy as np\n",
    "\n",
    "# 加载数据包\n",
    "with open('/content/new_array.pkl', 'rb') as f:\n",
    "    new_array = pickle.load(f)\n",
    "\n",
    "# 初始化结果列表\n",
    "results = []\n",
    "\n",
    "# 遍历每一行\n",
    "for row in new_array:\n",
    "    # 提取每个元组的值\n",
    "    theta_new_values = [item[1][0] for item in row]\n",
    "    new_pixel_value_values = [item[1][1] for item in row]\n",
    "    m_values = [item[0][0] for item in row]\n",
    "    n_values = [item[0][1] for item in row]\n",
    "\n",
    "    # 计算统计数据\n",
    "    theta_new_mean = np.mean(theta_new_values)\n",
    "    theta_new_variance = np.var(theta_new_values)\n",
    "    new_pixel_value_mean = np.mean(new_pixel_value_values)\n",
    "    new_pixel_value_variance = np.var(new_pixel_value_values)\n",
    "    m_mean = np.mean(m_values)\n",
    "    n_mean = np.mean(n_values)\n",
    "\n",
    "    # 将结果添加到结果列表中\n",
    "    results.append(((m_mean, n_mean), (theta_new_mean, theta_new_variance, new_pixel_value_mean, new_pixel_value_variance)))\n",
    "\n",
    "# 保存结果为数据包\n",
    "with open('/content/statistics_results.pkl', 'wb') as f:\n",
    "    pickle.dump(results, f)\n",
    "\n",
    "print(\"保存成功！\")\n"
   ]
  }
 ],
 "metadata": {
  "kernelspec": {
   "display_name": "Python 3 (ipykernel)",
   "language": "python",
   "name": "python3"
  },
  "language_info": {
   "codemirror_mode": {
    "name": "ipython",
    "version": 3
   },
   "file_extension": ".py",
   "mimetype": "text/x-python",
   "name": "python",
   "nbconvert_exporter": "python",
   "pygments_lexer": "ipython3",
   "version": "3.9.13"
  }
 },
 "nbformat": 4,
 "nbformat_minor": 5
}
