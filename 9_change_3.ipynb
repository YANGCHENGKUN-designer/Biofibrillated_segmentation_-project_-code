{
 "cells": [
  {
   "cell_type": "code",
   "execution_count": null,
   "id": "f06b1f4a",
   "metadata": {},
   "outputs": [],
   "source": [
    "#!/usr/bin/env python\n",
    "# coding: utf-8\n",
    "\n",
    "# In[ ]:\n",
    "\n",
    "\n",
    "import numpy as np\n",
    "from PIL import Image\n",
    "import pickle\n",
    "\n",
    "# 加载数据包\n",
    "with open('/content/processed_results.pkl', 'rb') as f:\n",
    "    processed_results = pickle.load(f)\n",
    "\n",
    "# 提取坐标和像素值\n",
    "x_values = [int(result[0]) for result in processed_results]\n",
    "y_values = [int(result[1]) for result in processed_results]\n",
    "pixel_values = [255 if result[4] >= 235 and result[4] <= 255 else (result[4] if result[4] >= 20 else 0) for result in processed_results]\n",
    "\n",
    "\n",
    "# 获取最大像素值和最小像素值\n",
    "max_pixel_value = np.max(pixel_values)\n",
    "min_pixel_value = np.min(pixel_values)\n",
    "\n",
    "# 处理只有一个像素值的情况\n",
    "if max_pixel_value == min_pixel_value:\n",
    "    max_pixel_value += 1\n",
    "    min_pixel_value -= 1\n",
    "\n",
    "# 创建空白图像\n",
    "image = Image.new(\"L\", (256, 256))\n",
    "\n",
    "# 根据坐标和像素值填充图像\n",
    "for x, y, pixel_value in zip(x_values, y_values, pixel_values):\n",
    "    # 将像素值映射到0-255的范围\n",
    "    normalized_pixel_value = int((pixel_value - min_pixel_value) / (max_pixel_value - min_pixel_value) * 255)\n",
    "\n",
    "    # 在图像上设置像素值\n",
    "    image.putpixel((int(x), int(y)), normalized_pixel_value)\n",
    "\n",
    "\n",
    "# 保存新的图片\n",
    "image.save(\"/content/plot.png\")\n",
    "\n",
    "print(\"新的图片已保存为 plot.png。\")\n",
    "\n",
    "\n",
    "\n"
   ]
  }
 ],
 "metadata": {
  "kernelspec": {
   "display_name": "Python 3 (ipykernel)",
   "language": "python",
   "name": "python3"
  },
  "language_info": {
   "codemirror_mode": {
    "name": "ipython",
    "version": 3
   },
   "file_extension": ".py",
   "mimetype": "text/x-python",
   "name": "python",
   "nbconvert_exporter": "python",
   "pygments_lexer": "ipython3",
   "version": "3.9.13"
  }
 },
 "nbformat": 4,
 "nbformat_minor": 5
}
