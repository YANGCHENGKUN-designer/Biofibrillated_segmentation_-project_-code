{
 "cells": [
  {
   "cell_type": "code",
   "execution_count": null,
   "id": "e4fbd667",
   "metadata": {},
   "outputs": [],
   "source": [
    "from PIL import Image\n",
    "\n",
    "# 读取原始图像\n",
    "image_path = '/content/plot.png'\n",
    "original_image = Image.open(image_path)\n",
    "\n",
    "# 创建新的256x256灰度图像\n",
    "new_image = Image.new('L', (256, 256))\n",
    "\n",
    "# 计算缩放比例\n",
    "width, height = original_image.size\n",
    "scale = min(256 / width, 256 / height)\n",
    "\n",
    "# 缩放原始图像并居中放置到新图像中\n",
    "new_width = int(width * scale)\n",
    "new_height = int(height * scale)\n",
    "resized_image = original_image.resize((new_width, new_height), Image.ANTIALIAS)\n",
    "x_offset = (256 - new_width) // 2\n",
    "y_offset = (256 - new_height) // 2\n",
    "new_image.paste(resized_image, (x_offset, y_offset))\n",
    "\n",
    "# 保存新图像\n",
    "new_image_path = '/content/plot_finished.png'\n",
    "new_image.save(new_image_path)\n",
    "\n",
    "\n"
   ]
  }
 ],
 "metadata": {
  "kernelspec": {
   "display_name": "Python 3 (ipykernel)",
   "language": "python",
   "name": "python3"
  },
  "language_info": {
   "codemirror_mode": {
    "name": "ipython",
    "version": 3
   },
   "file_extension": ".py",
   "mimetype": "text/x-python",
   "name": "python",
   "nbconvert_exporter": "python",
   "pygments_lexer": "ipython3",
   "version": "3.9.13"
  }
 },
 "nbformat": 4,
 "nbformat_minor": 5
}
