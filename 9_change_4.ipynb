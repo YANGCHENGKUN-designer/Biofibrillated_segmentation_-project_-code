{
 "cells": [
  {
   "cell_type": "code",
   "execution_count": null,
   "id": "e09c7f1e",
   "metadata": {},
   "outputs": [],
   "source": [
    "import numpy as np\n",
    "from PIL import Image\n",
    "import pickle\n",
    "\n",
    "# 加载数据包\n",
    "with open('/content/processed_results.pkl', 'rb') as f:\n",
    "    processed_results = pickle.load(f)\n",
    "\n",
    "# 定义像素值处理函数\n",
    "def process_pixel_value(value):\n",
    "    if value >= 0 and value <= 64:\n",
    "        return 0\n",
    "    elif value >= 65 and value <= 95:\n",
    "        return 80\n",
    "    elif value >= 96 and value <= 126:\n",
    "        return 100\n",
    "    elif value >= 127 and value <= 157:\n",
    "        return 120\n",
    "    elif value >= 158 and value <= 191:\n",
    "        return 150\n",
    "    elif value >= 192 and value <= 232:\n",
    "        return 210\n",
    "    else:\n",
    "        return value\n",
    "\n",
    "# 提取坐标和像素值\n",
    "x_values = [int(result[0]) for result in processed_results]\n",
    "y_values = [int(result[1]) for result in processed_results]\n",
    "pixel_values = [process_pixel_value(result[4]) for result in processed_results]\n",
    "\n",
    "# 创建空白图像\n",
    "image = Image.new(\"L\", (256, 256))\n",
    "\n",
    "# 根据坐标和像素值填充图像\n",
    "for x, y, pixel_value in zip(x_values, y_values, pixel_values):\n",
    "    image.putpixel((int(x), int(y)), int(pixel_value))\n",
    "\n",
    "# 保存新的图片\n",
    "image.save(\"/content/plot.png\")\n",
    "\n",
    "print(\"新的图片已保存为 plot.png。\")\n"
   ]
  }
 ],
 "metadata": {
  "kernelspec": {
   "display_name": "Python 3 (ipykernel)",
   "language": "python",
   "name": "python3"
  },
  "language_info": {
   "codemirror_mode": {
    "name": "ipython",
    "version": 3
   },
   "file_extension": ".py",
   "mimetype": "text/x-python",
   "name": "python",
   "nbconvert_exporter": "python",
   "pygments_lexer": "ipython3",
   "version": "3.9.13"
  }
 },
 "nbformat": 4,
 "nbformat_minor": 5
}
