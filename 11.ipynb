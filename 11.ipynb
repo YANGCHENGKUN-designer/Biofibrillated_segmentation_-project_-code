{
 "cells": [
  {
   "cell_type": "code",
   "execution_count": null,
   "id": "f8db2f51",
   "metadata": {},
   "outputs": [],
   "source": [
    "import shutil\n",
    "import subprocess\n",
    "from tqdm import tqdm\n",
    "import os\n",
    "\n",
    "image_path = '/content/plot_finished.png'  # 原始图片路径\n",
    "n = 16  # 循环次数\n",
    "\n",
    "total_iterations = n * 3  # 总迭代次数，每次循环进行三个操作：复制图片、运行程序和删除文件\n",
    "\n",
    "with tqdm(total=total_iterations, desc=\"Progress\", unit=\"iteration\") as pbar:\n",
    "    for i in range(1, n + 1):\n",
    "        new_image_path = f'/content/plot_finished{i}.png'  # 新图片路径\n",
    "        shutil.copyfile(image_path, new_image_path)  # 复制图片文件\n",
    "        print(f\"图片复制成功：{new_image_path}\")\n",
    "        pbar.update(1)  # 更新进度条\n",
    "\n",
    "        # 删除文件\n",
    "        try:\n",
    "            os.remove('/content/new_array.pkl')\n",
    "            os.remove('/content/new_array.txt')\n",
    "            os.remove('/content/new_image_256.png')\n",
    "            os.remove('/content/output_256.pkl')\n",
    "            os.remove('/content/processed_results.pkl')\n",
    "            os.remove('/content/query_results.pkl')\n",
    "            os.remove('/content/result_array.pkl')\n",
    "            os.remove('/content/result_data.pkl')\n",
    "            os.remove('/content/statistics_results.pkl')\n",
    "            print(\"文件删除成功\")\n",
    "            pbar.update(1)  # 更新进度条\n",
    "        except Exception as e:\n",
    "            print(f\"Error occurred while deleting files: {str(e)}\")\n",
    "\n",
    "        # 运行未命名2.py 程序\n",
    "        \n",
    "        !python /content/1.py\n",
    "        !python /content/2.py\n",
    "        !python /content/3.py\n",
    "        !python /content/4.py\n",
    "        !python /content/5.py\n",
    "        !python /content/6.py\n",
    "        !python /content/7.py\n",
    "        !python /content/8.py\n",
    "        !python /content/9.py\n",
    "        !python /content/10.py\n",
    "\n",
    "        print(\"程序 未命名2 运行成功\")\n",
    "        pbar.update(1)  # 更新进度条\n",
    "       \n",
    "            \n"
   ]
  }
 ],
 "metadata": {
  "kernelspec": {
   "display_name": "Python 3 (ipykernel)",
   "language": "python",
   "name": "python3"
  },
  "language_info": {
   "codemirror_mode": {
    "name": "ipython",
    "version": 3
   },
   "file_extension": ".py",
   "mimetype": "text/x-python",
   "name": "python",
   "nbconvert_exporter": "python",
   "pygments_lexer": "ipython3",
   "version": "3.9.13"
  }
 },
 "nbformat": 4,
 "nbformat_minor": 5
}
